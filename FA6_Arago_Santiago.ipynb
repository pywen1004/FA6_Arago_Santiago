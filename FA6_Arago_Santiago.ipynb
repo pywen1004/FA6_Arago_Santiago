{
  "nbformat": 4,
  "nbformat_minor": 0,
  "metadata": {
    "colab": {
      "provenance": []
    },
    "kernelspec": {
      "name": "python3",
      "display_name": "Python 3"
    },
    "language_info": {
      "name": "python"
    }
  },
  "cells": [
    {
      "cell_type": "markdown",
      "source": [
        "\n",
        "C-7.24 Give a complete implementation of the stack ADT using a singly linked list that includes a header sentinel."
      ],
      "metadata": {
        "id": "wbfP10VJZdrf"
      }
    },
    {
      "cell_type": "code",
      "source": [
        "class Node:\n",
        "    def __init__(self, data=None, next_node=None):\n",
        "        self.data = data\n",
        "        self.next = next_node\n",
        "\n",
        "class Stack:\n",
        "    def __init__(self):\n",
        "        # Header sentinel node, which does not hold data\n",
        "        self.header = Node()\n",
        "        self.size = 0  # Tracks the size of the stack\n",
        "\n",
        "    def is_empty(self):\n",
        "        return self.size == 0\n",
        "\n",
        "    def push(self, item):\n",
        "        new_node = Node(data=item, next_node=self.header.next)\n",
        "        self.header.next = new_node\n",
        "        self.size += 1\n",
        "\n",
        "    def pop(self):\n",
        "        if self.is_empty():\n",
        "            raise IndexError(\"pop from an empty stack\")\n",
        "        top_node = self.header.next\n",
        "        self.header.next = top_node.next\n",
        "        self.size -= 1\n",
        "        return top_node.data\n",
        "\n",
        "    def peek(self):\n",
        "        if self.is_empty():\n",
        "            raise IndexError(\"peek from an empty stack\")\n",
        "        return self.header.next.data\n",
        "\n",
        "    def __len__(self):\n",
        "        return self.size\n",
        "\n",
        "    def __iter__(self):\n",
        "        current = self.header.next\n",
        "        while current is not None:\n",
        "            yield current.data\n",
        "            current = current.next\n",
        "\n",
        "    def __repr__(self):\n",
        "        return \"Stack([\" + \", \".join(map(str, self)) + \"])\"\n",
        "\n",
        "# Example usage\n",
        "if __name__ == \"__main__\":\n",
        "    stack = Stack()\n",
        "    stack.push(10)\n",
        "    stack.push(20)\n",
        "    stack.push(30)\n",
        "    print(stack)  # Stack([30, 20, 10])\n",
        "    print(stack.peek())  # 30\n",
        "    print(stack.pop())   # 30\n",
        "    print(stack)  # Stack([20, 10])\n",
        "    print(len(stack))  # 2\n"
      ],
      "metadata": {
        "colab": {
          "base_uri": "https://localhost:8080/"
        },
        "id": "tGGFTxaCZfd-",
        "outputId": "0964ba40-c448-45ae-d4f3-7b4749f42aa7"
      },
      "execution_count": 1,
      "outputs": [
        {
          "output_type": "stream",
          "name": "stdout",
          "text": [
            "Stack([30, 20, 10])\n",
            "30\n",
            "30\n",
            "Stack([20, 10])\n",
            "2\n"
          ]
        }
      ]
    },
    {
      "cell_type": "markdown",
      "source": [
        "P-7.44 Write a simple text editor that stores and displays a string of characters\n",
        "using the positional list ADT, together with a cursor object that highlights\n",
        "a position in this string. A simple interface is to print the string and then\n",
        "to use a second line of output to underline the position of the cursor. Your\n",
        "editor should support the following operations:\n",
        "• left: Move cursor left one character (do nothing if at beginning).\n",
        "• right: Move cursor right one character (do nothing if at end).\n",
        "• insert c: Insert the character c just after the cursor.\n",
        "• delete: Delete the character just after the cursor (do nothing at end).\n"
      ],
      "metadata": {
        "id": "FmeYk2gCZ91P"
      }
    },
    {
      "cell_type": "code",
      "source": [
        "class Node:\n",
        "    def __init__(self, value=None, prev=None, next=None):\n",
        "        self.value = value\n",
        "        self.prev = prev\n",
        "        self.next = next\n",
        "\n",
        "\n",
        "class PositionalList:\n",
        "    def __init__(self):\n",
        "        self.head = Node()\n",
        "        self.tail = Node()\n",
        "        self.head.next = self.tail\n",
        "        self.tail.prev = self.head\n",
        "        self.cursor = self.head\n",
        "\n",
        "    def move_cursor_left(self):\n",
        "        if self.cursor.prev and self.cursor.prev != self.head:\n",
        "            self.cursor = self.cursor.prev\n",
        "        print(self)\n",
        "\n",
        "    def move_cursor_right(self):\n",
        "        if self.cursor.next and self.cursor.next != self.tail:\n",
        "            self.cursor = self.cursor.next\n",
        "        print(self)\n",
        "\n",
        "    def insert(self, char):\n",
        "        new_node = Node(value=char, prev=self.cursor, next=self.cursor.next)\n",
        "        self.cursor.next.prev = new_node\n",
        "        self.cursor.next = new_node\n",
        "        self.cursor = new_node\n",
        "        print(self)\n",
        "\n",
        "    def __str__(self):\n",
        "        current = self.head.next\n",
        "        result = []\n",
        "        while current != self.tail:\n",
        "            result.append(current.value)\n",
        "            current = current.next\n",
        "        string = ''.join(result)\n",
        "        cursor_index = self._cursor_index()\n",
        "        cursor_line = ' ' * cursor_index + '^'\n",
        "        return f\"{string}\\n{cursor_line}\"\n",
        "\n",
        "    def _cursor_index(self):\n",
        "        index = 0\n",
        "        current = self.head.next\n",
        "        while current != self.cursor:\n",
        "            index += 1\n",
        "            current = current.next\n",
        "        return index\n",
        "\n",
        "\n",
        "editor = PositionalList()\n",
        "\n",
        "for char in \"Arago\":\n",
        "    editor.insert(char)\n",
        "for _ in range(5):\n",
        "    editor.move_cursor_left()\n",
        "for char in \"Santiago\":\n",
        "    editor.insert(char)\n"
      ],
      "metadata": {
        "colab": {
          "base_uri": "https://localhost:8080/"
        },
        "id": "_fokXpVVaCQe",
        "outputId": "49624276-96c1-4b0e-d9a7-b70cb2d94936"
      },
      "execution_count": 4,
      "outputs": [
        {
          "output_type": "stream",
          "name": "stdout",
          "text": [
            "A\n",
            "^\n",
            "Ar\n",
            " ^\n",
            "Ara\n",
            "  ^\n",
            "Arag\n",
            "   ^\n",
            "Arago\n",
            "    ^\n",
            "Arago\n",
            "   ^\n",
            "Arago\n",
            "  ^\n",
            "Arago\n",
            " ^\n",
            "Arago\n",
            "^\n",
            "Arago\n",
            "^\n",
            "ASrago\n",
            " ^\n",
            "ASarago\n",
            "  ^\n",
            "ASanrago\n",
            "   ^\n",
            "ASantrago\n",
            "    ^\n",
            "ASantirago\n",
            "     ^\n",
            "ASantiarago\n",
            "      ^\n",
            "ASantiagrago\n",
            "       ^\n",
            "ASantiagorago\n",
            "        ^\n"
          ]
        }
      ]
    }
  ]
}